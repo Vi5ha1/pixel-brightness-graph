{
 "cells": [
  {
   "cell_type": "code",
   "execution_count": 1,
   "metadata": {},
   "outputs": [],
   "source": [
    "import matplotlib.pyplot as plt\n",
    "def file(filename):\n",
    "    from PIL import Image\n",
    "    from math import sqrt\n",
    "    imag = Image.open(filename)\n",
    "\n",
    "    imag = imag.convert ('RGB')\n",
    "    \n",
    "    #get the dimensions of the image, thus giving us the pixel count\n",
    "    \n",
    "    width,height = imag.size\n",
    "    list=[]\n",
    "    #Get RGB\n",
    "    for i in range(width-1):\n",
    "        for j in range(height-1):\n",
    "            pixelRGB = imag.getpixel((i,j))\n",
    "            R,G,B = pixelRGB \n",
    "            brightness = sum([R,G,B])/3\n",
    "        list.append(brightness/255)\n",
    "    list2 = []\n",
    "    \n",
    "    #Use the width of image as it is larger than the height, giving us a clean graph, to make the X axis.\n",
    "    \n",
    "    for i in range(width-1):\n",
    "        list2.append(i)\n",
    "    x = list2\n",
    "    y = list\n",
    "    plt.figure(figsize=(100, 4))\n",
    "    plt.scatter(x, y, label='pixel',s=10)\n",
    "    plt.xlabel(\"pixel\")\n",
    "    plt.ylabel(\"brightness\")\n",
    "\n",
    "\n",
    "    plt.plot(x, y,label='fit')\n",
    "\n",
    "\n",
    "file('#insert your image path here')"
   ]
  },
  {
   "cell_type": "code",
   "execution_count": null,
   "metadata": {},
   "outputs": [],
   "source": []
  }
 ],
 "metadata": {
  "kernelspec": {
   "display_name": "Python 3",
   "language": "python",
   "name": "python3"
  },
  "language_info": {
   "codemirror_mode": {
    "name": "ipython",
    "version": 3
   },
   "file_extension": ".py",
   "mimetype": "text/x-python",
   "name": "python",
   "nbconvert_exporter": "python",
   "pygments_lexer": "ipython3",
   "version": "3.7.6"
  }
 },
 "nbformat": 4,
 "nbformat_minor": 4
}
